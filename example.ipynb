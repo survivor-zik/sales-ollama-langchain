{
 "cells": [
  {
   "cell_type": "code",
   "execution_count": 1,
   "metadata": {},
   "outputs": [],
   "source": [
    "import pandas as pd\n",
    "from modules.data_process import (if_exists, return_data, save_file, add_value_to_column,\n",
    "                                  return_model, find_index_by_name)\n",
    "from modules.agents import Agents\n",
    "\n",
    "model, temperature, opener, escalator = return_model()\n",
    "agent = Agents(model=model, temperature=temperature, opener=opener, escalator=escalator)"
   ]
  },
  {
   "cell_type": "code",
   "execution_count": 2,
   "metadata": {},
   "outputs": [
    {
     "name": "stdout",
     "output_type": "stream",
     "text": [
      "\n",
      "\n",
      "\u001b[1m> Entering new AgentExecutor chain...\u001b[0m\n",
      "\u001b[32;1m\u001b[1;3m\u001b[0muser_data is not a valid tool, try one of [].\u001b[32;1m\u001b[1;3m\u001b[0muser_data is not a valid tool, try one of [].\u001b[32;1m\u001b[1;3m\u001b[0muser_data is not a valid tool, try one of [].\u001b[32;1m\u001b[1;3m{'arguments': '{\"subject\":\"Exciting Opportunity for LuxeDrive Rentals\",\"body\":\"Hello Ayesha,\\\\n\\\\nI\\'m Robo, a sales representative from Antematter, a software consultancy firm. I came across LuxeDrive Rentals and I\\'m keen on understanding your software needs for the CarElite project.\\\\n\\\\nCould you share more about the scope and budget you have in mind for CarElite? We specialize in delivering quality software solutions and I believe we can help bring your vision to life. Let\\'s discuss how we can collaborate to create a premium mobile solution for LuxeDrive Rentals.\\\\n\\\\nLooking forward to exploring this opportunity further with you. Would you be available for a meeting or a call to discuss in detail?\\\\n\\\\nBest regards,\\\\nRobo\"}', 'name': 'Response'}\u001b[0m\n",
      "\n",
      "\u001b[1m> Finished chain.\u001b[0m\n"
     ]
    }
   ],
   "source": [
    "name = input(\"Name of the user to mail\")\n",
    "if name and if_exists(str(name)):\n",
    "    index = find_index_by_name(str(name))\n",
    "    data = return_data(str(name))\n",
    "    result = agent.opener.invoke(input={\"input\": f\"{data[0]}\"})\n",
    "    agent.memory.save_context(\n",
    "        inputs={\"input\": f\"{data[0]}\"},\n",
    "        outputs={\"output\": result[\"subject\"] + \"\\n\" + result[\"body\"]},\n",
    "    )\n",
    "    add_value_to_column(column_name=\"Subject\", value=result[\"subject\"], index=index)\n",
    "    add_value_to_column(column_name=\"Body\", value=result[\"body\"], index=index)\n",
    "    save_file()\n",
    "    agent.get_summary()"
   ]
  },
  {
   "cell_type": "code",
   "execution_count": 6,
   "metadata": {},
   "outputs": [
    {
     "name": "stdout",
     "output_type": "stream",
     "text": [
      "\n",
      "\n",
      "\u001b[1m> Entering new AgentExecutor chain...\u001b[0m\n",
      "\u001b[32;1m\u001b[1;3mHello! I'm Robo from Antematter, a software consultancy firm. Thank you for showing interest in our services. \n",
      "\n",
      "Based on our previous conversation with LuxeDrive Rentals about their project CarElite and the budget of $25k, it seems like you have a clear idea of your project's scope and budget. \n",
      "\n",
      "Thank you for providing those details about your project's budget and scope. To better assist you, I'll escalate this lead to one of our experienced admin team members who can discuss further and provide a tailored proposal. They will reach out to you shortly to guide you through the next steps.\n",
      "\n",
      "Thank you for considering Antematter for your project!\u001b[0m\n",
      "\n",
      "\u001b[1m> Finished chain.\u001b[0m\n",
      "3   lead_status column Not Escalated\n",
      "3   agent_response column Hello! I'm Robo from Antematter, a software consultancy firm. Thank you for showing interest in our services. \n",
      "\n",
      "Based on our previous conversation with LuxeDrive Rentals about their project CarElite and the budget of $25k, it seems like you have a clear idea of your project's scope and budget. \n",
      "\n",
      "Thank you for providing those details about your project's budget and scope. To better assist you, I'll escalate this lead to one of our experienced admin team members who can discuss further and provide a tailored proposal. They will reach out to you shortly to guide you through the next steps.\n",
      "\n",
      "Thank you for considering Antematter for your project!\n",
      "\n",
      "\n",
      "\u001b[1m> Entering new AgentExecutor chain...\u001b[0m\n",
      "\u001b[32;1m\u001b[1;3m{'arguments': '{\"agent\":\"Thank you for providing those details about your project\\'s budget and scope. To better assist you, I\\'ll escalate this lead to one of our experienced admin team members who can discuss further and provide a tailored proposal.\",\"status\":\"Escalated\"}', 'name': 'Response'}\u001b[0m\n",
      "\n",
      "\u001b[1m> Finished chain.\u001b[0m\n",
      "3   agent_response column None\n",
      "3   lead_status column Escalated\n"
     ]
    }
   ],
   "source": [
    "while(True):\n",
    "    query=input(\"Chat with ROBO (Enter q to quit)\")\n",
    "    output=\"\"\n",
    "    if query==\"q\":\n",
    "        break\n",
    "    else:\n",
    "        results=agent.escalator.invoke({'input':query,\n",
    "                                       'chat_history':agent.summary})\n",
    "        if 'output' in results:\n",
    "            output=results['output']\n",
    "        if len(output) > 0:\n",
    "            agent.memory.save_context(inputs={\"input\": query},\n",
    "                                  outputs={\"output\": results['output']})\n",
    "            add_value_to_column(column_name=\"lead_status\", value=\"Not Escalated\", index=index)\n",
    "            add_value_to_column(column_name=\"agent_response\", value=output, index=index)\n",
    "            save_file()\n",
    "        elif results[\"status\"] == \"Escalated\":\n",
    "            agent.memory.save_context(inputs={\"input\": query},\n",
    "                                  outputs={\"output\": results[\"agent\"] + \"\\n\" + results[\"status\"]})\n",
    "            add_value_to_column(column_name=\"agent_response\", value=None, index=index)\n",
    "            add_value_to_column(column_name=\"lead_status\", value=results[\"status\"], index=index)\n",
    "            save_file()\n",
    "\n",
    "        agent.get_summary()\n"
   ]
  }
 ],
 "metadata": {
  "kernelspec": {
   "display_name": "Python 3",
   "language": "python",
   "name": "python3"
  },
  "language_info": {
   "codemirror_mode": {
    "name": "ipython",
    "version": 3
   },
   "file_extension": ".py",
   "mimetype": "text/x-python",
   "name": "python",
   "nbconvert_exporter": "python",
   "pygments_lexer": "ipython3",
   "version": "3.11.8"
  }
 },
 "nbformat": 4,
 "nbformat_minor": 2
}
