{
 "cells": [
  {
   "cell_type": "code",
   "execution_count": 1,
   "metadata": {},
   "outputs": [],
   "source": [
    "from modules.data_process import (if_exists, return_data, return_model,\n",
    "                                  find_index_by_name, add_value_to_column,\n",
    "                                  save_file)\n",
    "from modules.agents import Agents\n",
    "import pandas as pd"
   ]
  },
  {
   "cell_type": "code",
   "execution_count": 2,
   "metadata": {},
   "outputs": [],
   "source": [
    "model, temperature, opener, escalator = return_model()\n",
    "agent = Agents(model=model, temperature=temperature, prompt_opener=opener, prompt_escalator=escalator)"
   ]
  },
  {
   "cell_type": "code",
   "execution_count": 3,
   "metadata": {},
   "outputs": [
    {
     "name": "stdout",
     "output_type": "stream",
     "text": [
      "0\n",
      "[{'Name': 'Yaqub Qamar Ad Din Dibiazah', 'Job Title': 'Director Engineering', 'Organizaton': 'Imaarat Tech', 'Company Size': '50-100', 'Department': 'Engineering', 'Project Title': 'CentDoc', 'Looking For': 'In the past, the company encountered an issue where their product manuals became out of sync with the software documentation. As the development teams continued to add new features and refine existing ones, they also updated the documentation. However, this required manual synchronization between the product manuals and the software documentation.\\n\\nTo address this problem, the company has envisioned a solution called \"CentDoc\". This tool will automatically detect any inconsistencies between the product manuals and software documentation. It will then remove outdated information from the manuals using the software documentation, but only after receiving explicit approval from the user.', 'Lead Response': 'Thanks for reaching out. Our procurement team is actively looking for potential consultants. Can you please get in touch with them at procure@centdoc.io '}]\n"
     ]
    }
   ],
   "source": [
    "name=input(\"Enter Name\")\n",
    "if name and if_exists(str(name)):\n",
    "    index = find_index_by_name(str(name))\n",
    "    print(index)\n",
    "    data = return_data(str(name))\n",
    "    print(data)"
   ]
  },
  {
   "cell_type": "code",
   "execution_count": 4,
   "metadata": {},
   "outputs": [
    {
     "name": "stdout",
     "output_type": "stream",
     "text": [
      "{'email_subject': 'Streamline your product manuals with CentDoc 🤝', 'email_body': \"Hi Yaqub Qamar Ad Din Dibiazah,\\n\\nI'm Robo from Antematter, a software consultancy firm specializing in solving complex challenges faced by businesses in the Web3, AI, and Full-Stack domains. We've been impressed by the vision of your company, Imaarat Tech, and its ambitious project, CentDoc.\\n\\nWe understand that you're facing an issue where your product manuals are becoming out of sync with the software documentation. This is a common problem faced by many companies in the industry, and we're confident that CentDoc can help you address this problem effectively.\\n\\nCentDoc is a tool that automatically detects inconsistencies between product manuals and software documentation, and removes outdated information without disrupting the user flow. We've helped numerous companies streamline their documentation processes and save valuable time and resources.\\n\\nWe'd love to schedule a call to discuss your project further and explore how Antematter can help you achieve your goals. Please feel free to reach us at contact@antematter.io to schedule a meeting.\\n\\nThanks,\\nRobo\\nAntematter\"}\n"
     ]
    },
    {
     "name": "stderr",
     "output_type": "stream",
     "text": [
      "d:\\Antematter\\modules\\data_process.py:33: FutureWarning: Setting an item of incompatible dtype is deprecated and will raise an error in a future version of pandas. Value 'Hi Yaqub Qamar Ad Din Dibiazah,\n",
      "\n",
      "I'm Robo from Antematter, a software consultancy firm specializing in solving complex challenges faced by businesses in the Web3, AI, and Full-Stack domains. We've been impressed by the vision of your company, Imaarat Tech, and its ambitious project, CentDoc.\n",
      "\n",
      "We understand that you're facing an issue where your product manuals are becoming out of sync with the software documentation. This is a common problem faced by many companies in the industry, and we're confident that CentDoc can help you address this problem effectively.\n",
      "\n",
      "CentDoc is a tool that automatically detects inconsistencies between product manuals and software documentation, and removes outdated information without disrupting the user flow. We've helped numerous companies streamline their documentation processes and save valuable time and resources.\n",
      "\n",
      "We'd love to schedule a call to discuss your project further and explore how Antematter can help you achieve your goals. Please feel free to reach us at contact@antematter.io to schedule a meeting.\n",
      "\n",
      "Thanks,\n",
      "Robo\n",
      "Antematter' has dtype incompatible with float64, please explicitly cast to a compatible dtype first.\n",
      "  DATAFRAME.at[index, column_name] = value\n",
      "d:\\Antematter\\modules\\data_process.py:33: FutureWarning: Setting an item of incompatible dtype is deprecated and will raise an error in a future version of pandas. Value 'Streamline your product manuals with CentDoc 🤝' has dtype incompatible with float64, please explicitly cast to a compatible dtype first.\n",
      "  DATAFRAME.at[index, column_name] = value\n"
     ]
    }
   ],
   "source": [
    "response=agent.opener_agent.invoke({'input': f\"{data[0]}\"})\n",
    "print(response)\n",
    "agent.memory.save_context(inputs={\"input\": f\"{data[0]}\"},\n",
    "                                      outputs={\"output\": response['email_subject'] + \"\\n\" + response['email_body']})\n",
    "add_value_to_column(column_name=\"email_body\", value=response['email_body'], index=index)\n",
    "add_value_to_column(column_name=\"email_subject\", value=response['email_subject'], index=index)"
   ]
  },
  {
   "cell_type": "code",
   "execution_count": 5,
   "metadata": {},
   "outputs": [],
   "source": [
    "agent.generate_summary()"
   ]
  },
  {
   "cell_type": "code",
   "execution_count": 6,
   "metadata": {},
   "outputs": [],
   "source": [
    "query=input(\"Interact with the Robo\")"
   ]
  },
  {
   "cell_type": "code",
   "execution_count": 7,
   "metadata": {},
   "outputs": [],
   "source": [
    "quer=agent.escalator_agent.invoke({'input':query,'chat_history':agent.summary})\n",
    "agent.memory.save_context(inputs={\"input\": query},\n",
    "                                  outputs={\"output\": quer['agent_response'] + \"\\n\" + quer['lead_status']})"
   ]
  },
  {
   "cell_type": "code",
   "execution_count": 8,
   "metadata": {},
   "outputs": [
    {
     "name": "stdout",
     "output_type": "stream",
     "text": [
      "{'lead_status': 'Not Escalated', 'agent_response': \"Hi, Yaqub, I'm Robo from Antematter. I'm reaching out to you about your project, CentDoc, which aims to keep product manuals in sync with software documentation.\\n\\nI understand that CentDoc has been helping companies save time and resources by eliminating the need for manual synchronization. I'd be happy to schedule a call to discuss the project further and explore how Antematter can help Imaarat Tech achieve its goals.\\n\\nWould you be interested in scheduling a call with me? Please let me know if you have any specific time preferences.\"}\n"
     ]
    }
   ],
   "source": [
    "print(quer)"
   ]
  },
  {
   "cell_type": "code",
   "execution_count": 9,
   "metadata": {},
   "outputs": [
    {
     "name": "stderr",
     "output_type": "stream",
     "text": [
      "d:\\Antematter\\modules\\data_process.py:33: FutureWarning: Setting an item of incompatible dtype is deprecated and will raise an error in a future version of pandas. Value 'Not Escalated' has dtype incompatible with float64, please explicitly cast to a compatible dtype first.\n",
      "  DATAFRAME.at[index, column_name] = value\n",
      "d:\\Antematter\\modules\\data_process.py:33: FutureWarning: Setting an item of incompatible dtype is deprecated and will raise an error in a future version of pandas. Value 'Hi, Yaqub, I'm Robo from Antematter. I'm reaching out to you about your project, CentDoc, which aims to keep product manuals in sync with software documentation.\n",
      "\n",
      "I understand that CentDoc has been helping companies save time and resources by eliminating the need for manual synchronization. I'd be happy to schedule a call to discuss the project further and explore how Antematter can help Imaarat Tech achieve its goals.\n",
      "\n",
      "Would you be interested in scheduling a call with me? Please let me know if you have any specific time preferences.' has dtype incompatible with float64, please explicitly cast to a compatible dtype first.\n",
      "  DATAFRAME.at[index, column_name] = value\n"
     ]
    }
   ],
   "source": [
    "add_value_to_column(column_name=\"lead_status\", value=quer['lead_status'], index=index)\n",
    "if quer['lead_status'] == \"Escalated\":\n",
    "    add_value_to_column(column_name=\"agent_response\", value=pd.NA, index=index)\n",
    "    save_file()\n",
    "else:\n",
    "    add_value_to_column(column_name=\"agent_response\", value=quer['agent_response'], index=index)\n",
    "    save_file()"
   ]
  },
  {
   "cell_type": "code",
   "execution_count": null,
   "metadata": {},
   "outputs": [],
   "source": []
  }
 ],
 "metadata": {
  "kernelspec": {
   "display_name": "Python 3",
   "language": "python",
   "name": "python3"
  },
  "language_info": {
   "codemirror_mode": {
    "name": "ipython",
    "version": 3
   },
   "file_extension": ".py",
   "mimetype": "text/x-python",
   "name": "python",
   "nbconvert_exporter": "python",
   "pygments_lexer": "ipython3",
   "version": "3.11.8"
  }
 },
 "nbformat": 4,
 "nbformat_minor": 2
}
