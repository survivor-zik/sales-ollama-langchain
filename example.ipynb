{
 "cells": [
  {
   "cell_type": "code",
   "execution_count": null,
   "metadata": {},
   "outputs": [],
   "source": [
    "import pandas as pd\n",
    "from modules.data_process import (if_exists, return_data, save_file, add_value_to_column,\n",
    "                                  return_model, find_index_by_name)\n",
    "from modules.agents import Agents\n",
    "model, temperature, opener, escalator = return_model()\n",
    "agent = Agents(model=model, temperature=temperature, opener=opener, escalator=escalator)"
   ]
  },
  {
   "cell_type": "code",
   "execution_count": null,
   "metadata": {},
   "outputs": [],
   "source": [
    "name = input(\"Name of the user to mail\")\n",
    "if name and if_exists(str(name)):\n",
    "    index = find_index_by_name(str(name))\n",
    "    data = return_data(str(name))\n",
    "    result = agent.opener.invoke(input={\"input\": f\"{data[0]}\"})\n",
    "    agent.memory.save_context(\n",
    "        inputs={\"input\": f\"{data[0]}\"},\n",
    "        outputs={\"output\": result[\"subject\"] + \"\\n\" + result[\"body\"]},\n",
    "    )\n",
    "    add_value_to_column(column_name=\"Subject\", value=result[\"subject\"], index=index)\n",
    "    add_value_to_column(column_name=\"Body\", value=result[\"body\"], index=index)\n",
    "    save_file()\n",
    "    agent.get_summary()"
   ]
  },
  {
   "cell_type": "code",
   "execution_count": null,
   "metadata": {},
   "outputs": [],
   "source": [
    "while(True):\n",
    "    query=input(\"Chat with ROBO (Enter q to quit)\")\n",
    "    output=\"\"\n",
    "    if query==\"q\":\n",
    "        break\n",
    "    else:\n",
    "        results=agent.escalator.invoke({'input':query,\n",
    "                                       'chat_history':agent.summary})\n",
    "        if 'output' in results:\n",
    "            output=results['output']\n",
    "        if len(output) > 0:\n",
    "            agent.memory.save_context(inputs={\"input\": query},\n",
    "                                  outputs={\"output\": results['output']})\n",
    "            add_value_to_column(column_name=\"lead_status\", value=\"Not Escalated\", index=index)\n",
    "            add_value_to_column(column_name=\"agent_response\", value=output, index=index)\n",
    "            save_file()\n",
    "        elif results[\"status\"] == \"Escalated\":\n",
    "            agent.memory.save_context(inputs={\"input\": query},\n",
    "                                  outputs={\"output\": results[\"agent\"] + \"\\n\" + results[\"status\"]})\n",
    "            add_value_to_column(column_name=\"agent_response\", value=None, index=index)\n",
    "            add_value_to_column(column_name=\"lead_status\", value=results[\"status\"], index=index)\n",
    "            save_file()\n",
    "\n",
    "        agent.get_summary()\n"
   ]
  },
  {
   "cell_type": "code",
   "execution_count": null,
   "metadata": {},
   "outputs": [],
   "source": []
  }
 ],
 "metadata": {
  "kernelspec": {
   "display_name": "Python 3",
   "language": "python",
   "name": "python3"
  },
  "language_info": {
   "codemirror_mode": {
    "name": "ipython",
    "version": 3
   },
   "file_extension": ".py",
   "mimetype": "text/x-python",
   "name": "python",
   "nbconvert_exporter": "python",
   "pygments_lexer": "ipython3",
   "version": "3.11.8"
  }
 },
 "nbformat": 4,
 "nbformat_minor": 2
}
